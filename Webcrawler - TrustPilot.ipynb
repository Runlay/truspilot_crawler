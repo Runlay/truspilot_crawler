{
 "cells": [
  {
   "cell_type": "code",
   "execution_count": 4,
   "id": "0fbcbebc",
   "metadata": {},
   "outputs": [
    {
     "name": "stderr",
     "output_type": "stream",
     "text": [
      "[nltk_data] Downloading package stopwords to\n",
      "[nltk_data]     C:\\Users\\Studium\\AppData\\Roaming\\nltk_data...\n",
      "[nltk_data]   Package stopwords is already up-to-date!\n"
     ]
    }
   ],
   "source": [
    "import nltk, string\n",
    "from textblob import TextBlob\n",
    "from nltk.corpus import stopwords\n",
    "from nltk.tokenize import word_tokenize, sent_tokenize\n",
    "\n",
    " \n",
    "nltk.download('stopwords')\n",
    "stop_words = set(stopwords.words('german'))"
   ]
  },
  {
   "cell_type": "code",
   "execution_count": 5,
   "id": "certified-primary",
   "metadata": {
    "tags": []
   },
   "outputs": [],
   "source": [
    "import requests\n",
    "from bs4 import BeautifulSoup\n",
    "\n",
    "URL = \"https://de.trustpilot.com/review/www.apple.com\"\n",
    "page = requests.get(URL)\n",
    "soup = BeautifulSoup(page.content, \"html.parser\")"
   ]
  },
  {
   "cell_type": "code",
   "execution_count": 6,
   "id": "correct-psychology",
   "metadata": {
    "tags": []
   },
   "outputs": [],
   "source": [
    "results = soup.find(id='__next', recursive=True)"
   ]
  },
  {
   "cell_type": "code",
   "execution_count": 7,
   "id": "cloudy-affair",
   "metadata": {
    "tags": []
   },
   "outputs": [
    {
     "name": "stdout",
     "output_type": "stream",
     "text": [
      "20 Bewertungen gescraped\n"
     ]
    }
   ],
   "source": [
    "_reviews= results.find_all(\"div\", {\"class\": \"styles_reviewCardInner__EwDq2\"})\n",
    "print(str(len(_reviews)) +\" Bewertungen gescraped\")"
   ]
  },
  {
   "cell_type": "code",
   "execution_count": 8,
   "id": "tough-luther",
   "metadata": {
    "tags": []
   },
   "outputs": [],
   "source": [
    "review_dict={}\n",
    "i =0\n",
    "for review in _reviews:\n",
    "    i=i+1\n",
    "    heading=review.find(\"h2\",{\"class\":'typography_heading-s__f7029 typography_appearance-default__AAY17'})\n",
    "    content=review.find(\"p\",{\"class\":'typography_body-l__KUYFJ typography_appearance-default__AAY17 typography_color-black__5LYEn'})\n",
    "    r={}\n",
    "    r['Rating']=review.find(\"img\")['alt'][13:14]\n",
    "    r[\"Heading\"]=heading.text\n",
    "    r[\"Content\"]=content.text\n",
    "#     print(review.find(\"img\")['alt'])\n",
    "#     print(heading.text)\n",
    "#     print(\"\")\n",
    "#     print(content.text)\n",
    "#     print(\"\\n \\n\")\n",
    "    review_dict[i]=r"
   ]
  },
  {
   "cell_type": "code",
   "execution_count": 9,
   "id": "comic-honduras",
   "metadata": {},
   "outputs": [],
   "source": [
    "import json"
   ]
  },
  {
   "cell_type": "code",
   "execution_count": 10,
   "id": "equal-lithuania",
   "metadata": {},
   "outputs": [],
   "source": [
    "output=json.dumps(review_dict)\n",
    "# Writing to sample.json\n",
    "with open(\"sample.json\", \"w\") as outfile:\n",
    "    outfile.write(output)"
   ]
  },
  {
   "cell_type": "code",
   "execution_count": 11,
   "id": "6861ee53",
   "metadata": {},
   "outputs": [
    {
     "name": "stdout",
     "output_type": "stream",
     "text": [
      "Mein IPhone hatte ein Problem mit dem Mikrofon. Der erste Mitarbeiter schlug ziemlich viel unnötiger Mist vor, was einem nur die Zeit raubte. Dann,sollte, da ich Apple Care habe, es ausgetauscht werden, da ich es nicht einsehe, mir die Software neu aufzuspielen mit nem PC. Ich sollte 780€ via Kreditkarte vorlegen, damit ich ein neues Gerät bekomme. Da ich aber keine Kreditkarte besitze und man mir nicht glauben wollte, legte ein „Vorgesetzter der technischen Abteilung auf. Soviel zum Thema „Apple wäre so gut“. Nach insgesamt 2 Stunden an der Strippe, landete ich mal bei jemanden, der mir sagte, ich könnte auch im Media Markt das Gerät abgeben.Finde es erschreckend, wie überhaupt so eine Firma den Smartphone Markt beherrscht, mit so einem mickrigen Support voller inkompetenter Leuten.\n",
      "Schlechtester Kundenservice aller Zeiten. Obwohl ich Garantie habe, sollte ich noch dafür bezahlen, dass Apple das Gerät repariert. Wofür hat man denn die Garantie? Das ist eine absolute Frechheit. Kundenservice braucht man gar nicht erst kontaktieren, die konnten mir nicht helfen und sagen immer das gleiche am Telefon. Hätte ich ehrlich nicht von Apple gedacht, dass der Kundenservice so grottenschlecht ist, schließlich bin ich Bestandskunde bei Apple und dann wird einem nur weitergeholfen, während man in der Garantiezeit extra bezahlen muss, obwohl die Garantie das mit abdeckt. Am liebsten würde ich -1 Sterne vergeben.\n",
      "Ich kann mich allen vorschreibern nur anschliessen! Ich habe Zugriff auf NICHTS mehr! Kein Konto keine Krypto nicht mehr das überlebenswichtig ist. Angeblich weil ich mein Passwort falsch eingegeben habe . Das gleiche Passwort funktioniert mal mal nicht so wie es aussieht.Natürlich habe ich alle Möglichkeiten mein Passwort herzustellen genutzt völlig ohne jeden Erfolg. Ich solle 11 Stunden warten dabei warte ich jetzt 15 Stunden ohne jeglichen Zugriff auf Zahlunsmittel oder Ausweisdaten. Weil Apple der Meinung ist Sie Können einen auf Vorschriften Diktator mit Schlechter Umsetzung machen. Ich werde NIEMALS wieder ein Apple Produkt kaufen und mein gesamtes Portfolio auf Android wechseln. Apple kann sich seine Mittelklasse Arroganz in Zukunft sparen. Es ist jedesmal erneut eine Zumutung die Stunden von Lebenszeit Klaut und ganze Tage vermiest das braucht kein normaler Mensch. Ich empfehle Jedem Kauft euch Produkte die einwandfrei funktionieren und eure Daten nicht verschwinden lassen ohne das Ihr jemals wieder Zugriff darauf haben werdet. Eindeutig Finger Weg von Apple die Produkte senken ihre Lebensqualität und machen meiner Meinung nach dadurch Krank! Stellen Sie sich vor Sie wollen einkaufen und können nicht weil Apple ihnen Diktiert wann Sie ihren Account öffnen! Für mich sind das wirklich völlig steinzeitliche Methoden und ich hoffe das diese Firma schnell vom Weltmarkt verschwindet.\n",
      "Mit Abstand bester Kundensupport bei Apple\n",
      "Apple bucht seit längerem von meiner Kreditkarte Kosten für den von mir angeblich gekauften I-Cloud Speicher Platz ab und als ich dieses widerrechtliche  ABO kündigen wollte, gab es erst lange dumme Diskussionen mit dem Support - mit dem Ergebnis, dass man mich einfach aus der Leitung warf. Meine IPhones sind alle gehackt - ich habe unzählige Male versucht Hilfe seitens Apple zu bekommen - KEINE CHANCE - ALLES IN ALLEM LETZTKLASSIG\n",
      "Achtung, Apple Produkte bestellen auf eigene Gefahr!!!!! Ich habe noch nie sowas in meinem Leben erlebt. Vor einem Monat habe ich ein MacBook bestellt, es kam an und leider war es defekt. Per UPS habe ich es beim Access Point abgegeben und es sollte dann an Apple retourniert werden. Es vergehen Wochen und noch immer kam keine Antwort von Apple. Dann ruf ich an und beschwere mich, was denn da los wäre. Apple sagt, dass das Paket nicht beim Apple Store angekommen wäre und hat daraufhin bei UPS eine Nachforschung eingeleitet. 5 Tage später, kommt die Antwort, dass das Paket nicht beim Apple Store angekommen ist und ich somit kein Ersatz oder keine Erstattung bekomme. Sowas geht gar nicht!!! Habe dann mehrfach bei Apple angerufen und mich beschwert, was das soll und ob es deren Ernst wäre. Ich habe darum gebeten, dass mich jemand vom höheren Posten kontaktiert. Und was ist passiert? Natürlich kam kein Anruf zurück! Ich rief wieder an und dann hat mir die Frau vom Kundenservice gesagt, dass Sie leider nichts für mich tun können und mir nicht weiterhelfen können und das der Fall somit abgeschlossen wäre. So geht Apple also mit seinen Kunden um! Ich rate euch allen davon ab, bei Apple etwas zu bestellen und falls ihr da bestellt, dann müsst ihr damit rechnen, dass Apple sich kein Stück um euch kümmern wird und euch nicht weiterhelfen wird! Nun werde ich rechtliche Schritte eingehen müssen. Danke Apple für nichts!\n",
      "Besitze älteres Ipad max ios 9X ließ sich bereits 4 Jahre nach Kaufdatum (dieses war 2016) nicht mehr aktualisieren.(absichtliche Firmenpolicy)Nach umständlichen Versuchen mit Itunes einige Apps  doch noch zu aktualisieren hat sich das Gerät selbsttätig in den Auslieferungszustand zurückversetzt . Nur die Bilder konnte ich retten. Enormer Zeitaufwand für nichts. Es reicht.\n",
      "Ich musste mein ipad nach jahren neu aufsetzen, und nach der Neuinstallation kann ich nicht mehr auf meine icloud zugereifen, die ich seit vielen Monaten zahle. Seit Oktober versuche ich einen zu erreichen der eine Ahnung hat, unmöglich, da der support total unfähig ist, die könnten den support auflösen, wenn sie nur deppen und unfähige dort sitzen haben!!Nicht mit freundlichen grüßenAn den Apple supportWerner w. Fensl1220 Wien\n",
      "Apple, I Mac von 2009 . 2011 meiner Erfahrung nach. Schlechte Grafikkarten und Schlechtes LCD Inverter Flex Ribbon Kabel.  Bei der Qualität Kontrolle ist Apple nicht aufgefallen, das die Grafikaktren Fehler aufwiesen.  Nach 5 Jahren Verlängerte Garantie, kann man seinen Mac Eder an einen Bastler Abgeben, Verkaufen oder Entsorgen.\n",
      "Defekte Artikel (Akku) werden nicht repariert, obwohl diese etwas über einen Monat alt sind...Arroganter Supporter, kann man ja wieder aufladen...Wirklich 0 Hilfestellung...Mehr als Radio Buttons zu schubsen können die Mitarbeiter nicht... Theoretisch könnte man auch Schimpansen einsetzen, die sind günstiger...Pure Lebenszeit verschwendet...Hier ist Name Programm...Hier werden sie verappled...Strasse passt auch hervorragend zum Service, einfach zum weg rennen...\n",
      "Beim Kauf von Apple Homepod (habe 2 grosse gekauft) wird versprochen 1/2 Jahr Apple Music kostenlos, habe diesen nicht erhalten und Support angerufen, miesester Telefon Support den ich je erlebt habe auch 25min in der Warteschleife mit gellender Musik, Mitarbeiterin musste nach 15 Minuten Vorgesetzte rufen, diese lässt mich dann wieder 10 Minuten in der Warteschleife bis ich dann schlussendlich aufgelegt habe. (hätte dann zumindest Rückruf erwartet, hätte ja sein können dass wir unterbrochen wurden, war dem aber nicht so.Daraufhin per Chat versucht, alle Fragen wieder beantwortet, Antworten die ich am Anfang gegeben hatte wurden wieder abgefragt, gehe davon aus dass die deine Antworten nicht bewusst lesen, bis dann am Schluss gesagt wurde, wenn man den Gratis Account von Apple Music in der Vergangenheit schon mal genutzt habe, dieser nicht wieder Verfügbar sei für den gleichen Apple Account. (davon stand nicht im Kaufversprechen der Homepots).Interessant ist aber dass die Dame (Vorgesetzte) vor sie mich am Telefon warten liess, gesagt hat dass sich das mit jedem Kauf erneuere und hätte ich beide nicht gleichzeitig gekauft, dies wieder nach 6 Monaten auf das neue Gerät zugute hätte. Das ganze Theater ca. 50 Minuten für nichts.Problem NICHT gelöst.Absolut nicht an Kundenlösungen interessierte Mitarbeiter, schlechtester Service aber gute Preise.\n",
      "Totaler scam! Da ist man seit 14 Jahren ein apple user und hat dad erste Mal ein Problem wegen einem unglaublichen Designerfehler und wird einfach abgewiesen. Das Display ist voller Dellen von der Tastatur. Ein kleinster Staubkorn reicht. Haben mal aus Spaß auf einer alten Version Krümmel gepackt und zugemachtm. NICHTS.  Das war das letzte Mal. 3.300 euro damit es selbst mit Liebe kapput geht. Nie wieder wird bei apple gekauft. (Dazu noch einen zum Store schicken und sagen es wird kostenlos rwpariert und einen dann dort sagen es kostet)\n",
      "Von der Apple iCloud ist dringend abzuraten, wenn man sie im professionellen Einsatz nützen will. Selbst mittelgroße Dateien, von Ordnern ganz zu schweigen, brauchen entweder Stunden zum Download, meist kommt es aber gar nicht soweit, denn das Ganze bricht dann ab. Sollten Sie große Teile Ihres Schreibtisches oder Dokumente in die Cloud wie von Apple möglichst erzwungen, hochladen und diese sind nicht mehr am Rechner, bekommen sie das nie mehr runter. Absolut dilettantische Cloud-Lösung, aber wie bei so vielem von Apple ist alles eigentlich auf iPhone-Daddelkinder ausgelegt, nichts für Profis. Eine unfassbar vermurkste Anwendung, nur für Fanboys und Girls, die sich kleine Bildchen in die Cloud laden.\n",
      "Als ich gesehen habe, dass so ein toller Service wie von Apple (meine Erfahrungen) so schlecht bewertet wurde, wunderte ich mich und die erste Idee war, dass hier die Konkurrenz am Werke war, da es sehr konträr zu meinen Erfahrungen ist. Spaß bei Seite, ich akzeptiere natürlich auch andere Meinungen. Ich für meinen Teil habe schon öfters überlegt mal ein Android zu kaufen (bis seit dem iPhone 1 ein Apple Kunde. Der einzige Grund wieso ich es nicht gemacht habe, ist der tolle Service von Apple. Auch die Qualität der Apple Produkte sind ein Grund, aber da gibt es auch sehr gute Produkte anderer Marktteilnehmer, sodass der Service der Hauptgrund ist, wieso ich seit 16 Jahren treuer Kunde bin. Das Maximum an Service habe ich vor einigen Jahren erlebt als die Garantie meines Apple - Produktes um eine Woche abgelaufen war als ich in einem Apple Kundencenter war wegen einem Problem. Sie sagten, dass das sehr unfair wäre, wenn Sie mir nicht entgegen kommen würden wegen den Paar Tagen. Ich bekam ein neue Appleprodukt! WOW.\n",
      "Ich muss beruflich immer wieder Apple Produkte verwenden, insb. iphone und ipad. Privat verwende ich primär Android Geräte, wodurch ich einen guten Vergleich habe. Für mich persönlich ist Apple den hohen Aufpreis in keiner Weise wert. Bei meinem beruflich genutzten ipad war der Akku nach nur 9 Monaten defekt. Die Integration mit diversen Apps ist leider häufig eine Katastrophe, insb. was die Office-Welt betrifft (naheliegend, dass Apple hier an einer nahtlosen Integration auch nur begrenztes Interesse hat). Es gibt immerwieder hier und da Komplikationen. Privat würde ich mir das, insb. unter Beachtung des Preises, nicht antun.\n",
      "Den falschen Aku gecshickt bekommen.Zurückgesendet aber das Geld nie erhalten.Sogar nach email verkehr und nach Telefon.Bin seit 20 Jahre apple Kunde.Einfach eine Fechheit.\n",
      "Iphones sind sehr praktisch und ich benutze es so viel.Zum Arbeiten freut es mich sehr weil,Sie so einfach zu benutzen sind. Aber,es hat eine schlechte baterie.Ich habe es Seit 6 monaten gekauft und gerade habe Ich es zwei mal aufladen müssen.\n",
      "Das Unternehmen zockt nur ab. Ich habe das Paket mit dem neuesten I Phone & dazugehörigen PC gewonnen,  wobei die Betonung auf gewonnen liegt. Ich habe jetzt schon an die knappen 200 Euro dafür ausgegeben und Fed Ex wollte heute dass ich nochmal eine Wallet Steam Karte kaufe, weil er kein Benzin hat, er muss heute Nacht (wegen mir!!!) im Van schlafen muss,  aber morgen Früh fährt er mit dem Taxi nach Hause und auch der Mitarbeiter J. Satzinger gibt mir die Schuld dass der Fed Ex Fahrer nichts źu Essen hat und im Van schlafen muss und eine Frau und ein Kind zu Hause hat.  Sorry, interessiert mich aber nach 2 Wochen verar..... haste ich genug und morgen ist der Spaß vorbei. Der Mitarbeiter von Apple hat mir das Paket für heute versprochen und jedes Mal kommt einer von beiden mit einem anderen G'schichtl daher warum ich noch eine Karte 40 Euro pro Gespräch (ein bisschen übertrieben, aber es kommt mir schon so vor) , jedes Mal verspricht mir Hr. Satzinger für den nächsten Tag mein Paket und plötzlich muss ich noch eine Karte kaufen, weil...ich weiß schon gar nicht mehr warum ! Die haben eine Art mit Kunden umzugehen, da wird einem schlecht. Eigentlich haben die sich nicht mal 1 Stern verdient, aber ich musste das loswerden,  nicht nur Fed Ex hat umsonst so einen schlechten Ruf,  Apple ist nicht besser!\n",
      "Ich finde Apple eigendlich super! Einzig was mich stört: Man hat manchmal Probleme beim Verbinden zwischen (I)OS und Windows. Zum iPhone: Das iPhone bekommt von  mir 5 Sterne! Das MacBook: Ist eigendlich gut. Nur das Problem zwischen Windows und OS. Fazit: 4 Sterne\n",
      "Absolut miesester Telefon Support den ich je erlebt habe 25min in der Warteschleife - Mitarbeiter sagt „ja was soll ich machen, vielleicht dauert es noch länger …“Problem NICHT gelöst\n",
      "\n"
     ]
    }
   ],
   "source": [
    "sample_text=\"\"\n",
    "with open(\"sample.json\", \"r\") as f:\n",
    "    jsonarr = json.load(f)\n",
    "for i in jsonarr:\n",
    "    sample_text=sample_text+jsonarr[i].get(\"Content\")\n",
    "    sample_text=sample_text+\"\\n\"\n",
    "    # print(jsonarr[i].get(\"Content\"))\n",
    "print(sample_text)\n"
   ]
  },
  {
   "cell_type": "code",
   "execution_count": 22,
   "id": "3b0050fe",
   "metadata": {},
   "outputs": [
    {
     "name": "stdout",
     "output_type": "stream",
     "text": [
      "Dann,sollte, da ich Apple Care habe, es ausgetauscht werden, da ich es nicht einsehe, mir die Software neu aufzuspielen mit nem PC. Nach insgesamt 2 Stunden an der Strippe, landete ich mal bei jemanden, der mir sagte, ich könnte auch im Media Markt das Gerät abgeben.Finde es erschreckend, wie überhaupt so eine Firma den Smartphone Markt beherrscht, mit so einem mickrigen Support voller inkompetenter Leuten. Defekte Artikel (Akku) werden nicht repariert, obwohl diese etwas über einen Monat alt sind...Arroganter Supporter, kann man ja wieder aufladen...Wirklich 0 Hilfestellung...Mehr als Radio Buttons zu schubsen können die Mitarbeiter nicht... Theoretisch könnte man auch Schimpansen einsetzen, die sind günstiger...Pure Lebenszeit verschwendet...Hier ist Name Programm...Hier werden sie verappled...Strasse passt auch hervorragend zum Service, einfach zum weg rennen...\n",
      "Beim Kauf von Apple Homepod (habe 2 grosse gekauft) wird versprochen 1/2 Jahr Apple Music kostenlos, habe diesen nicht erhalten und Support angerufen, miesester Telefon Support den ich je erlebt habe auch 25min in der Warteschleife mit gellender Musik, Mitarbeiterin musste nach 15 Minuten Vorgesetzte rufen, diese lässt mich dann wieder 10 Minuten in der Warteschleife bis ich dann schlussendlich aufgelegt habe. (hätte dann zumindest Rückruf erwartet, hätte ja sein können dass wir unterbrochen wurden, war dem aber nicht so.Daraufhin per Chat versucht, alle Fragen wieder beantwortet, Antworten die ich am Anfang gegeben hatte wurden wieder abgefragt, gehe davon aus dass die deine Antworten nicht bewusst lesen, bis dann am Schluss gesagt wurde, wenn man den Gratis Account von Apple Music in der Vergangenheit schon mal genutzt habe, dieser nicht wieder Verfügbar sei für den gleichen Apple Account. Als ich gesehen habe, dass so ein toller Service wie von Apple (meine Erfahrungen) so schlecht bewertet wurde, wunderte ich mich und die erste Idee war, dass hier die Konkurrenz am Werke war, da es sehr konträr zu meinen Erfahrungen ist.\n"
     ]
    },
    {
     "name": "stderr",
     "output_type": "stream",
     "text": [
      "[nltk_data] Downloading package punkt to\n",
      "[nltk_data]     C:\\Users\\Studium\\AppData\\Roaming\\nltk_data...\n",
      "[nltk_data]   Package punkt is already up-to-date!\n"
     ]
    }
   ],
   "source": [
    "nltk.download('punkt')\n",
    "words=word_tokenize(sample_text)\n",
    "words = [word for word in words if not word in stop_words]\n",
    "wordf={}\n",
    "for word in words:\n",
    "  if word not in wordf:\n",
    "    wordf [word]=1\n",
    "  else:\n",
    "    wordf[word] = wordf[word]+1\n",
    "  \n",
    "sentences=sent_tokenize(sample_text)\n",
    "sentence_scores = {}\n",
    "for i, sentence in enumerate(sentences):\n",
    "    words = word_tokenize(sentence.lower())\n",
    "    score=0\n",
    "    for word in words:\n",
    "        if word in wordf:\n",
    "         \n",
    "            score += wordf[word]\n",
    "        sentence_scores[i] = score \n",
    "                    \n",
    "    \n",
    "  \n",
    "sorted_sentences = sorted(sentence_scores.keys(), key=lambda x: sentence_scores[x], reverse=True)\n",
    "\n",
    "summary_sentences = sorted(sorted_sentences[:5])\n",
    "\n",
    "summary = ' '.join([sent_tokenize(sample_text)[i] for i in summary_sentences])\n",
    "print(summary)\n",
    "summary_dict={}\n",
    "summary_dict[\"Summary\"]=summary\n",
    "summarysummary=json.dumps(summary_dict)\n",
    "with open(\"summary.json\", \"w\") as outfile:\n",
    "    outfile.write(summarysummary)\n"
   ]
  },
  {
   "cell_type": "code",
   "execution_count": 23,
   "id": "13aea6c1",
   "metadata": {},
   "outputs": [
    {
     "name": "stdout",
     "output_type": "stream",
     "text": [
      "Polarity (Sentiment): 0.012210648148148139\n",
      "Subjectivity: 0.712962962962963\n"
     ]
    }
   ],
   "source": [
    "blob = TextBlob(sample_text)\n",
    "polarity = blob.sentiment.polarity\n",
    "subjectivity = blob.sentiment.subjectivity\n",
    "\n",
    "print(\"Polarity (Sentiment):\", polarity)\n",
    "print(\"Subjectivity:\", subjectivity)\n",
    "\n",
    "sentiment_dict={}\n",
    "sentiment_dict[\"Polarity\"]=polarity\n",
    "sentiment_dict[\"Subjectivity\"]=subjectivity\n",
    "sentiment=json.dumps(sentiment_dict)\n",
    "\n",
    "with open(\"sentiment.json\", \"w\") as outfile:\n",
    "    outfile.write(sentiment)"
   ]
  }
 ],
 "metadata": {
  "kernelspec": {
   "display_name": "Python 3",
   "language": "python",
   "name": "python3"
  },
  "language_info": {
   "codemirror_mode": {
    "name": "ipython",
    "version": 3
   },
   "file_extension": ".py",
   "mimetype": "text/x-python",
   "name": "python",
   "nbconvert_exporter": "python",
   "pygments_lexer": "ipython3",
   "version": "3.11.3"
  }
 },
 "nbformat": 4,
 "nbformat_minor": 5
}
