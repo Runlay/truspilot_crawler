{
  "cells": [
    {
      "cell_type": "markdown",
      "id": "9e89fcce",
      "metadata": {
        "id": "9e89fcce"
      },
      "source": [
        "# Textzusammenfassung - extraktiver Ansatz"
      ]
    },
    {
      "cell_type": "markdown",
      "id": "75d08013",
      "metadata": {
        "id": "75d08013"
      },
      "source": [
        "Der folgende Codeblock initialisert einige nützliche Frameworks, insbesondere um Stoppwörter zu entfernen."
      ]
    },
    {
      "cell_type": "code",
      "execution_count": 35,
      "id": "9d2f0ce7",
      "metadata": {
        "colab": {
          "base_uri": "https://localhost:8080/"
        },
        "id": "9d2f0ce7",
        "outputId": "43ce8cf6-befb-4fc4-f9db-bdfaac47daa4"
      },
      "outputs": [
        {
          "output_type": "stream",
          "name": "stderr",
          "text": [
            "[nltk_data] Downloading package stopwords to /root/nltk_data...\n",
            "[nltk_data]   Package stopwords is already up-to-date!\n"
          ]
        }
      ],
      "source": [
        "import nltk, string\n",
        "from textblob import TextBlob\n",
        "from nltk.corpus import stopwords\n",
        "from nltk.tokenize import word_tokenize, sent_tokenize\n",
        "\n",
        " \n",
        "nltk.download('stopwords')\n",
        "stop_words = set(stopwords.words('german'))"
      ]
    },
    {
      "cell_type": "markdown",
      "id": "b1ecee41",
      "metadata": {
        "id": "b1ecee41"
      },
      "source": [
        "Nun kann eine .txt-Datei geladen werden, aus welcher im Folgenden die extraktive Zusammenfassung erzeugt werden soll."
      ]
    },
    {
      "cell_type": "code",
      "execution_count": 45,
      "id": "846b50b7",
      "metadata": {
        "id": "846b50b7"
      },
      "outputs": [],
      "source": [
        "with open('./sample_data/text.txt', 'r') as file:\n",
        "    sample_text = file.read().replace('\\n', '')"
      ]
    },
    {
      "cell_type": "markdown",
      "id": "62f25b01",
      "metadata": {
        "id": "62f25b01"
      },
      "source": [
        "Um nun den Algorithmus zu implementiern, müssen die folgenden Schritte durchgeführt werden:\n",
        "* Berechnung der Summe des Auftretens jedes Wortes im Gesamttext\n",
        "* Berechnung der Summe der Gewichtungen pro Satz\n",
        "* Sortieren der gewichteteten Sätze unter Speicherung der Originalreihenfolge\n",
        "* Auswahl der Top N Sätze zur Ausgabe der Zusammenfassung (Ausgabe unter Berücksichtigung der Originalreihenfolge)"
      ]
    },
    {
      "cell_type": "code",
      "execution_count": 30,
      "id": "8c3b57ef",
      "metadata": {
        "id": "8c3b57ef",
        "colab": {
          "base_uri": "https://localhost:8080/"
        },
        "outputId": "362b5b19-0016-4f6b-c349-ee7685fb9d2a"
      },
      "outputs": [
        {
          "output_type": "stream",
          "name": "stdout",
          "text": [
            "Uns sind keine behördlichen Ermittlungen dazu bekannt.“Jetzt gibt es neue Vorwürfe von mehreren Frauen, die noch weitergehen.Rammstein-Fan Shelby Lynn machte ihre mutmaßlichen Misshandlungen bei einer Backstage-Party von Rammstein vergangene Woche öffentlichRammstein-Fan Shelby Lynn machte ihre Verletzung öffentlich, die sie bei einer Backstage-Party bei Rammstein erlitten haben sollZwei Frauen berichten gegenüber  NDR und „Süddeutscher Zeitung“ von sexuellen Handlungen, denen sie angeblich nicht zugestimmt hätten. Und weiter: Zahlreiche junge Frauen sollen gezielt rekrutiert worden sein, um mit Till Lindemann (60) Sex zu haben.Die Frauen seien auf Konzerten oder bereits im Vorfeld über Instagram von Leuten aus dem Umfeld des Rammstein-Sängers angesprochen worden, um zu Backstage-Partys zu kommen. Gegenüber NDR und „Süddeutsche Zeitung“ sagt sie: „In dem Moment habe ich nur gedacht: Oh mein Gott, das tut weh, hoffentlich ist es bald vorbei.“ Sie habe starke Schmerzen gehabt. „Ich habe danach auch geblutet.“ Heute bezeichne die Frau den Sex mit Lindemann, den sie als gewaltvoll beschreibt, als Übergriff und Machtmissbrauch.Eine andere junge Frau (21) sei bei einer Aftershow-Party für Frontmann Lindemann in einem Hotelzimmer ohnmächtig geworden. „Ich wusste nicht einmal, womit er aufhören will.“Die Frauen haben gegenüber NDR und „Süddeutsche Zeitung“ eidesstattliche Versicherungen abgegeben, bleiben auf eigenen Wunsch anonym.Rammstein sind aktuell auf Stadio-Europa-Tour – wie hier in HelsinkiLindemann vergangenen Sonntag auf der Bühne in HelsinkiRammstein und Till Lindemann wurden von NDR und „Süddeutsche Zeitung“ mit den Vorwürfen konfrontiert, sowohl die Band als auch der Sänger ließen die Anfragen inhaltlich unbeantwortet – ebenso die von BILD.Heute, am Freitagmittag, gab der Verlag Kiepenheuer & Witsch bekannt, die Zusammenarbeit mit Till Lindemann zu beenden.\n"
          ]
        },
        {
          "output_type": "stream",
          "name": "stderr",
          "text": [
            "[nltk_data] Downloading package punkt to /root/nltk_data...\n",
            "[nltk_data]   Package punkt is already up-to-date!\n"
          ]
        }
      ],
      "source": [
        "nltk.download('punkt')\n",
        "words=word_tokenize(sample_text)\n",
        "words = [word for word in words if not word in stop_words]\n",
        "wordf={}\n",
        "for word in words:\n",
        "  if word not in wordf:\n",
        "    wordf [word]=1\n",
        "  else:\n",
        "    wordf[word] = wordf[word]+1\n",
        "  \n",
        "sentences=sent_tokenize(sample_text)\n",
        "sentence_scores = {}\n",
        "for i, sentence in enumerate(sentences):\n",
        "    words = word_tokenize(sentence.lower())\n",
        "    score=0\n",
        "    for word in words:\n",
        "        if word in wordf:\n",
        "         \n",
        "            score += wordf[word]\n",
        "        sentence_scores[i] = score \n",
        "                    \n",
        "    \n",
        "  \n",
        "sorted_sentences = sorted(sentence_scores.keys(), key=lambda x: sentence_scores[x], reverse=True)\n",
        "\n",
        "summary_sentences = sorted(sorted_sentences[:5])\n",
        "\n",
        "summary = ' '.join([sent_tokenize(sample_text)[i] for i in summary_sentences])\n",
        "print(summary)\n"
      ]
    },
    {
      "cell_type": "code",
      "source": [
        "# TextBlob"
      ],
      "metadata": {
        "id": "iMz9g0KERMW-"
      },
      "id": "iMz9g0KERMW-",
      "execution_count": 50,
      "outputs": []
    },
    {
      "cell_type": "code",
      "source": [
        "blob = TextBlob(sample_text)\n",
        "polarity = blob.sentiment.polarity\n",
        "subjectivity = blob.sentiment.subjectivity\n",
        "\n",
        "print(\"Polarity (Sentiment):\", polarity)\n",
        "print(\"Subjectivity:\", subjectivity)"
      ],
      "metadata": {
        "colab": {
          "base_uri": "https://localhost:8080/"
        },
        "id": "GKeJbn8hN6FX",
        "outputId": "8e19d526-d454-46ac-950a-b250d2fdd4b4"
      },
      "id": "GKeJbn8hN6FX",
      "execution_count": 46,
      "outputs": [
        {
          "output_type": "stream",
          "name": "stdout",
          "text": [
            "Polarity (Sentiment): 1.0\n",
            "Subjectivity: 0.3\n"
          ]
        }
      ]
    },
    {
      "cell_type": "code",
      "source": [
        "# Vader Sentiment"
      ],
      "metadata": {
        "id": "MAVA_49tRJpj"
      },
      "id": "MAVA_49tRJpj",
      "execution_count": 49,
      "outputs": []
    },
    {
      "cell_type": "code",
      "source": [
        "\n",
        "from vaderSentiment.vaderSentiment import SentimentIntensityAnalyzer\n",
        "\n",
        "analyzer = SentimentIntensityAnalyzer()\n",
        "\n",
        "sentiment = analyzer.polarity_scores(sample_text)\n",
        "\n",
        "# print(\"Positive:\", sentiment['pos'])\n",
        "# print(\"Negative:\", sentiment['neg'])\n",
        "# print(\"Neutral:\", sentiment['neu'])\n",
        "print(\"Sentiment:\", sentiment['compound']) "
      ],
      "metadata": {
        "colab": {
          "base_uri": "https://localhost:8080/"
        },
        "id": "9XcyMpJZQlqU",
        "outputId": "cecea23c-8031-4af7-8fd0-238324de6809"
      },
      "id": "9XcyMpJZQlqU",
      "execution_count": 51,
      "outputs": [
        {
          "output_type": "stream",
          "name": "stdout",
          "text": [
            "Sentiment: 0.9274\n"
          ]
        }
      ]
    }
  ],
  "metadata": {
    "kernelspec": {
      "display_name": "hector",
      "language": "python",
      "name": "hector"
    },
    "language_info": {
      "codemirror_mode": {
        "name": "ipython",
        "version": 3
      },
      "file_extension": ".py",
      "mimetype": "text/x-python",
      "name": "python",
      "nbconvert_exporter": "python",
      "pygments_lexer": "ipython3",
      "version": "3.10.6"
    },
    "colab": {
      "provenance": []
    }
  },
  "nbformat": 4,
  "nbformat_minor": 5
}