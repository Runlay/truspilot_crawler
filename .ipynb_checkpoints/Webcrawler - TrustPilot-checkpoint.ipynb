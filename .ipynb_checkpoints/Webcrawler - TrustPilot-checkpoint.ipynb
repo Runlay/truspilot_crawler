{
 "cells": [
  {
   "cell_type": "code",
   "execution_count": 30,
   "id": "certified-primary",
   "metadata": {
    "tags": []
   },
   "outputs": [],
   "source": [
    "import requests\n",
    "from bs4 import BeautifulSoup\n",
    "\n",
    "URL = \"https://de.trustpilot.com/review/www.apple.com\"\n",
    "page = requests.get(URL)\n",
    "soup = BeautifulSoup(page.content, \"html.parser\")"
   ]
  },
  {
   "cell_type": "code",
   "execution_count": 31,
   "id": "correct-psychology",
   "metadata": {
    "tags": []
   },
   "outputs": [],
   "source": [
    "results = soup.find(id='__next', recursive=True)"
   ]
  },
  {
   "cell_type": "code",
   "execution_count": 38,
   "id": "cloudy-affair",
   "metadata": {
    "tags": []
   },
   "outputs": [
    {
     "name": "stdout",
     "output_type": "stream",
     "text": [
      "20 Bewertungen gescraped\n"
     ]
    }
   ],
   "source": [
    "_reviews= results.find_all(\"div\", {\"class\": \"styles_reviewCardInner__EwDq2\"})\n",
    "print(str(len(_reviews)) +\" Bewertungen gescraped\")"
   ]
  },
  {
   "cell_type": "code",
   "execution_count": 64,
   "id": "tough-luther",
   "metadata": {
    "tags": []
   },
   "outputs": [],
   "source": [
    "review_dict={}\n",
    "i =0\n",
    "for review in _reviews:\n",
    "    i=i+1\n",
    "    heading=review.find(\"h2\",{\"class\":'typography_heading-s__f7029 typography_appearance-default__AAY17'})\n",
    "    content=review.find(\"p\",{\"class\":'typography_body-l__KUYFJ typography_appearance-default__AAY17 typography_color-black__5LYEn'})\n",
    "    r={}\n",
    "    r['Rating']=review.find(\"img\")['alt'][13:14]\n",
    "    r[\"Heading\"]=heading.text\n",
    "    r[\"Content\"]=content.text\n",
    "#     print(review.find(\"img\")['alt'])\n",
    "#     print(heading.text)\n",
    "#     print(\"\")\n",
    "#     print(content.text)\n",
    "#     print(\"\\n \\n\")\n",
    "    review_dict[i]=r"
   ]
  },
  {
   "cell_type": "code",
   "execution_count": 48,
   "id": "comic-honduras",
   "metadata": {},
   "outputs": [],
   "source": [
    "import json"
   ]
  },
  {
   "cell_type": "code",
   "execution_count": 65,
   "id": "equal-lithuania",
   "metadata": {},
   "outputs": [],
   "source": [
    "output=json.dumps(review_dict)\n",
    "# Writing to sample.json\n",
    "with open(\"sample.json\", \"w\") as outfile:\n",
    "    outfile.write(output)"
   ]
  }
 ],
 "metadata": {
  "kernelspec": {
   "display_name": "Python 3",
   "language": "python",
   "name": "python3"
  },
  "language_info": {
   "codemirror_mode": {
    "name": "ipython",
    "version": 3
   },
   "file_extension": ".py",
   "mimetype": "text/x-python",
   "name": "python",
   "nbconvert_exporter": "python",
   "pygments_lexer": "ipython3",
   "version": "3.7.0"
  }
 },
 "nbformat": 4,
 "nbformat_minor": 5
}
